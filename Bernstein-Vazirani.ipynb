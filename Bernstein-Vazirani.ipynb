{
 "cells": [
  {
   "cell_type": "code",
   "execution_count": 3,
   "id": "6896c788",
   "metadata": {},
   "outputs": [],
   "source": [
    "# Setup: imports and helper (Qiskit ≥ 1.0)\n",
    "from qiskit import QuantumCircuit, transpile\n",
    "from qiskit_aer import AerSimulator\n",
    "from qiskit.visualization import plot_histogram\n",
    "from IPython.display import display\n",
    "import numpy as np\n",
    "\n",
    "sim = AerSimulator()\n",
    "\n",
    "def run_and_plot(qc, shots=1024):\n",
    "    qc = transpile(qc, sim)\n",
    "    result = sim.run(qc, shots=shots).result()   # no assemble needed\n",
    "    counts = result.get_counts()\n",
    "    try:\n",
    "        display(plot_histogram(counts))\n",
    "    except Exception:\n",
    "        print(counts)\n",
    "    return counts\n"
   ]
  },
  {
   "cell_type": "code",
   "execution_count": 4,
   "id": "e240da1b",
   "metadata": {},
   "outputs": [
    {
     "name": "stdout",
     "output_type": "stream",
     "text": [
      "     ┌───┐     ┌────────────┐┌───┐┌─┐         \n",
      "q_0: ┤ H ├─────┤0           ├┤ H ├┤M├─────────\n",
      "     ├───┤     │            │├───┤└╥┘┌─┐      \n",
      "q_1: ┤ H ├─────┤1           ├┤ H ├─╫─┤M├──────\n",
      "     ├───┤     │            │├───┤ ║ └╥┘┌─┐   \n",
      "q_2: ┤ H ├─────┤2 bv_oracle ├┤ H ├─╫──╫─┤M├───\n",
      "     ├───┤     │            │├───┤ ║  ║ └╥┘┌─┐\n",
      "q_3: ┤ H ├─────┤3           ├┤ H ├─╫──╫──╫─┤M├\n",
      "     ├───┤┌───┐│            │└───┘ ║  ║  ║ └╥┘\n",
      "q_4: ┤ X ├┤ H ├┤4           ├──────╫──╫──╫──╫─\n",
      "     └───┘└───┘└────────────┘      ║  ║  ║  ║ \n",
      "c: 4/══════════════════════════════╩══╩══╩══╩═\n",
      "                                   0  1  2  3 \n"
     ]
    },
    {
     "data": {
      "image/png": "[encoded data removed]",
      "text/plain": [
       "<Figure size 640x480 with 1 Axes>"
      ]
     },
     "metadata": {},
     "output_type": "display_data"
    },
    {
     "name": "stdout",
     "output_type": "stream",
     "text": [
      "Counts: {'1011': 1024}\n",
      "Hidden string: 1011\n"
     ]
    }
   ],
   "source": [
    "# Bernstein–Vazirani Algorithm\n",
    "s = '1011'    # hidden string\n",
    "n = len(s)\n",
    "\n",
    "# Oracle for hidden string s\n",
    "def bv_oracle(s):\n",
    "    n = len(s)\n",
    "    qc = QuantumCircuit(n+1, name='bv_oracle')\n",
    "    for i, bit in enumerate(reversed(s)):\n",
    "        if bit == '1':\n",
    "            qc.cx(i, n)   # CNOT if bit is 1\n",
    "    return qc\n",
    "\n",
    "# BV circuit builder\n",
    "def bernstein_vazirani(s):\n",
    "    n = len(s)\n",
    "    qc = QuantumCircuit(n+1, n)\n",
    "    \n",
    "    # Step 1: prepare output qubit in |1>\n",
    "    qc.x(n)\n",
    "    qc.h(n)\n",
    "    \n",
    "    # Step 2: superposition on input qubits\n",
    "    qc.h(range(n))\n",
    "    \n",
    "    # Step 3: apply oracle\n",
    "    qc.append(bv_oracle(s).to_gate(), range(n+1))\n",
    "    \n",
    "    # Step 4: Hadamard on input qubits\n",
    "    qc.h(range(n))\n",
    "    \n",
    "    # Step 5: measure input qubits\n",
    "    qc.measure(range(n), range(n))\n",
    "    \n",
    "    print(qc.draw(output='text'))\n",
    "    return run_and_plot(qc)\n",
    "\n",
    "# Run Bernstein–Vazirani\n",
    "counts_bv = bernstein_vazirani(s)\n",
    "print(\"Counts:\", counts_bv)\n",
    "print(\"Hidden string:\", max(counts_bv, key=counts_bv.get))\n"
   ]
  }
 ],
 "metadata": {
  "kernelspec": {
   "display_name": "Python 3",
   "language": "python",
   "name": "python3"
  },
  "language_info": {
   "codemirror_mode": {
    "name": "ipython",
    "version": 3
   },
   "file_extension": ".py",
   "mimetype": "text/x-python",
   "name": "python",
   "nbconvert_exporter": "python",
   "pygments_lexer": "ipython3",
   "version": "3.13.7"
  }
 },
 "nbformat": 4,
 "nbformat_minor": 5
}
