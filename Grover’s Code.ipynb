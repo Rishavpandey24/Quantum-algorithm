{
 "cells": [
  {
   "cell_type": "code",
   "execution_count": 3,
   "id": "f9d8c033",
   "metadata": {},
   "outputs": [],
   "source": [
    "# --- Setup: always run this first ---\n",
    "from qiskit import QuantumCircuit, transpile\n",
    "from qiskit_aer import AerSimulator\n",
    "from qiskit.visualization import plot_histogram\n",
    "import matplotlib.pyplot as plt\n",
    "\n",
    "# Helper function: run circuit & plot histogram\n",
    "def run_and_plot(qc, shots=1024):\n",
    "    sim = AerSimulator()\n",
    "    tqc = transpile(qc, sim)\n",
    "    result = sim.run(tqc, shots=shots).result()\n",
    "    counts = result.get_counts()\n",
    "    plot_histogram(counts)\n",
    "    plt.show()\n",
    "    return counts\n"
   ]
  },
  {
   "cell_type": "code",
   "execution_count": 4,
   "id": "1a61c738",
   "metadata": {},
   "outputs": [
    {
     "name": "stderr",
     "output_type": "stream",
     "text": [
      "C:\\Users\\liinvwp\\AppData\\Local\\Temp\\ipykernel_13184\\1120022281.py:18: DeprecationWarning: ``qiskit.circuit.quantumcircuit.QuantumCircuit.mcx()``'s argument ``mode`` is deprecated as of Qiskit 2.1. It will be removed no earlier than 3 months after the release date. Instead, add a generic MCXGate to the circuit and specify the synthesis method via the ``hls_config`` in the transpilation. Alternatively, specific decompositions are available at https://qisk.it/mcx.\n",
      "  qc.mcx(list(range(n-1)), n-1, mode='noancilla')\n",
      "C:\\Users\\liinvwp\\AppData\\Local\\Temp\\ipykernel_13184\\1120022281.py:34: DeprecationWarning: ``qiskit.circuit.quantumcircuit.QuantumCircuit.mcx()``'s argument ``mode`` is deprecated as of Qiskit 2.1. It will be removed no earlier than 3 months after the release date. Instead, add a generic MCXGate to the circuit and specify the synthesis method via the ``hls_config`` in the transpilation. Alternatively, specific decompositions are available at https://qisk.it/mcx.\n",
      "  qc.mcx(list(range(n-1)), n-1, mode='noancilla')\n"
     ]
    },
    {
     "name": "stdout",
     "output_type": "stream",
     "text": [
      "     ┌───┐┌─────────┐┌───────────┐┌─┐      \n",
      "q_0: ┤ H ├┤0        ├┤0          ├┤M├──────\n",
      "     ├───┤│         ││           │└╥┘┌─┐   \n",
      "q_1: ┤ H ├┤1 oracle ├┤1 diffuser ├─╫─┤M├───\n",
      "     ├───┤│         ││           │ ║ └╥┘┌─┐\n",
      "q_2: ┤ H ├┤2        ├┤2          ├─╫──╫─┤M├\n",
      "     └───┘└─────────┘└───────────┘ ║  ║ └╥┘\n",
      "c: 3/══════════════════════════════╩══╩══╩═\n",
      "                                   0  1  2 \n",
      "Most frequent result: 101\n"
     ]
    }
   ],
   "source": [
    "# Grover’s Algorithm: Search for a marked state\n",
    "\n",
    "n = 3                      # number of qubits\n",
    "marked = '101'             # the state we want to find\n",
    "\n",
    "# Oracle: marks the state |marked>\n",
    "def grover_oracle(marked):\n",
    "    n = len(marked)\n",
    "    qc = QuantumCircuit(n, name='oracle')\n",
    "    \n",
    "    # Flip qubits where marked bit is '0'\n",
    "    for i, bit in enumerate(reversed(marked)):\n",
    "        if bit == '0':\n",
    "            qc.x(i)\n",
    "    \n",
    "    # Multi-controlled Z (via H, MCX, H)\n",
    "    qc.h(n-1)\n",
    "    qc.mcx(list(range(n-1)), n-1, mode='noancilla')\n",
    "    qc.h(n-1)\n",
    "    \n",
    "    # Undo the X gates\n",
    "    for i, bit in enumerate(reversed(marked)):\n",
    "        if bit == '0':\n",
    "            qc.x(i)\n",
    "    \n",
    "    return qc\n",
    "\n",
    "# Diffuser (inversion about mean)\n",
    "def diffuser(n):\n",
    "    qc = QuantumCircuit(n, name='diffuser')\n",
    "    qc.h(range(n))\n",
    "    qc.x(range(n))\n",
    "    qc.h(n-1)\n",
    "    qc.mcx(list(range(n-1)), n-1, mode='noancilla')\n",
    "    qc.h(n-1)\n",
    "    qc.x(range(n))\n",
    "    qc.h(range(n))\n",
    "    return qc\n",
    "\n",
    "# Build Grover circuit\n",
    "qc = QuantumCircuit(n, n)\n",
    "\n",
    "# Step 1: put qubits into superposition\n",
    "qc.h(range(n))\n",
    "\n",
    "# Step 2: apply oracle\n",
    "qc.append(grover_oracle(marked).to_gate(), range(n))\n",
    "\n",
    "# Step 3: apply diffuser\n",
    "qc.append(diffuser(n).to_gate(), range(n))\n",
    "\n",
    "# Step 4: measure\n",
    "qc.measure(range(n), range(n))\n",
    "\n",
    "print(qc.draw(output=\"text\"))\n",
    "counts_g = run_and_plot(qc, shots=2048)\n",
    "print(\"Most frequent result:\", max(counts_g, key=counts_g.get))\n"
   ]
  }
 ],
 "metadata": {
  "kernelspec": {
   "display_name": "Python 3",
   "language": "python",
   "name": "python3"
  },
  "language_info": {
   "codemirror_mode": {
    "name": "ipython",
    "version": 3
   },
   "file_extension": ".py",
   "mimetype": "text/x-python",
   "name": "python",
   "nbconvert_exporter": "python",
   "pygments_lexer": "ipython3",
   "version": "3.13.7"
  }
 },
 "nbformat": 4,
 "nbformat_minor": 5
}
