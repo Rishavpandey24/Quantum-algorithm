{
 "cells": [
  {
   "cell_type": "code",
   "execution_count": 5,
   "id": "f9d8c033",
   "metadata": {},
   "outputs": [
    {
     "name": "stdout",
     "output_type": "stream",
     "text": [
      "     ┌───┐┌─────────┐┌───────────┐┌─┐      \n",
      "q_0: ┤ H ├┤0        ├┤0          ├┤M├──────\n",
      "     ├───┤│         ││           │└╥┘┌─┐   \n",
      "q_1: ┤ H ├┤1 oracle ├┤1 diffuser ├─╫─┤M├───\n",
      "     ├───┤│         ││           │ ║ └╥┘┌─┐\n",
      "q_2: ┤ H ├┤2        ├┤2          ├─╫──╫─┤M├\n",
      "     └───┘└─────────┘└───────────┘ ║  ║ └╥┘\n",
      "c: 3/══════════════════════════════╩══╩══╩═\n",
      "                                   0  1  2 \n",
      "Most frequent result: 101\n"
     ]
    }
   ],
   "source": [
    "from qiskit import QuantumCircuit, transpile\n",
    "from qiskit_aer import AerSimulator\n",
    "from qiskit.visualization import plot_histogram\n",
    "from qiskit.circuit.library import MCXGate\n",
    "import matplotlib.pyplot as plt\n",
    "\n",
    "# Helper function: run circuit & plot histogram\n",
    "def run_and_plot(qc, shots=1024):\n",
    "    sim = AerSimulator()\n",
    "    tqc = transpile(qc, sim)\n",
    "    result = sim.run(tqc, shots=shots).result()\n",
    "    counts = result.get_counts()\n",
    "    plot_histogram(counts)\n",
    "    plt.show()\n",
    "    return counts\n",
    "\n",
    "# Grover’s Algorithm parameters\n",
    "n = 3\n",
    "marked = '101'\n",
    "\n",
    "# Oracle: marks the state |marked>\n",
    "def grover_oracle(marked):\n",
    "    n = len(marked)\n",
    "    qc = QuantumCircuit(n, name='oracle')\n",
    "    for i, bit in enumerate(reversed(marked)):\n",
    "        if bit == '0':\n",
    "            qc.x(i)\n",
    "    qc.h(n-1)\n",
    "    mcx_gate = MCXGate(num_ctrl_qubits=n-1)\n",
    "    qc.append(mcx_gate, list(range(n)))  # replace deprecated mcx\n",
    "    qc.h(n-1)\n",
    "    for i, bit in enumerate(reversed(marked)):\n",
    "        if bit == '0':\n",
    "            qc.x(i)\n",
    "    return qc\n",
    "\n",
    "# Diffuser\n",
    "def diffuser(n):\n",
    "    qc = QuantumCircuit(n, name='diffuser')\n",
    "    qc.h(range(n))\n",
    "    qc.x(range(n))\n",
    "    qc.h(n-1)\n",
    "    mcx_gate = MCXGate(num_ctrl_qubits=n-1)\n",
    "    qc.append(mcx_gate, list(range(n)))  # replace deprecated mcx\n",
    "    qc.h(n-1)\n",
    "    qc.x(range(n))\n",
    "    qc.h(range(n))\n",
    "    return qc\n",
    "\n",
    "# Build Grover circuit\n",
    "qc = QuantumCircuit(n, n)\n",
    "qc.h(range(n))\n",
    "qc.append(grover_oracle(marked).to_gate(), range(n))\n",
    "qc.append(diffuser(n).to_gate(), range(n))\n",
    "qc.measure(range(n), range(n))\n",
    "\n",
    "# Draw circuit\n",
    "print(qc.draw(output=\"text\"))\n",
    "\n",
    "# Run circuit\n",
    "counts_g = run_and_plot(qc, shots=2048)\n",
    "print(\"Most frequent result:\", max(counts_g, key=counts_g.get))\n"
   ]
  }
 ],
 "metadata": {
  "kernelspec": {
   "display_name": "Python 3",
   "language": "python",
   "name": "python3"
  },
  "language_info": {
   "codemirror_mode": {
    "name": "ipython",
    "version": 3
   },
   "file_extension": ".py",
   "mimetype": "text/x-python",
   "name": "python",
   "nbconvert_exporter": "python",
   "pygments_lexer": "ipython3",
   "version": "3.13.7"
  }
 },
 "nbformat": 4,
 "nbformat_minor": 5
}
