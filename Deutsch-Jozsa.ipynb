{
 "cells": [
  {
   "cell_type": "code",
   "execution_count": 4,
   "id": "5cbac820",
   "metadata": {},
   "outputs": [],
   "source": [
    "# Setup: imports and helper (Qiskit 1.0+)\n",
    "from qiskit import QuantumCircuit, transpile\n",
    "from qiskit_aer import AerSimulator\n",
    "from qiskit.visualization import plot_histogram\n",
    "from IPython.display import display\n",
    "import numpy as np\n",
    "\n",
    "sim = AerSimulator()\n",
    "\n",
    "def run_and_plot(qc, shots=1024):\n",
    "    qc = transpile(qc, sim)\n",
    "    result = sim.run(qc, shots=shots).result()   # no assemble needed\n",
    "    counts = result.get_counts()\n",
    "    try:\n",
    "        display(plot_histogram(counts))\n",
    "    except Exception:\n",
    "        print(counts)\n",
    "    return counts\n"
   ]
  },
  {
   "cell_type": "code",
   "execution_count": 5,
   "id": "7d74dec1",
   "metadata": {},
   "outputs": [
    {
     "name": "stdout",
     "output_type": "stream",
     "text": [
      "🔹 Constant oracle (expect all zeros):\n",
      "     ┌───┐     ┌──────────────────┐┌───┐┌─┐      \n",
      "q_0: ┤ H ├─────┤0                 ├┤ H ├┤M├──────\n",
      "     ├───┤     │                  │├───┤└╥┘┌─┐   \n",
      "q_1: ┤ H ├─────┤1                 ├┤ H ├─╫─┤M├───\n",
      "     ├───┤     │  constant_oracle │├───┤ ║ └╥┘┌─┐\n",
      "q_2: ┤ H ├─────┤2                 ├┤ H ├─╫──╫─┤M├\n",
      "     ├───┤┌───┐│                  │└───┘ ║  ║ └╥┘\n",
      "q_3: ┤ X ├┤ H ├┤3                 ├──────╫──╫──╫─\n",
      "     └───┘└───┘└──────────────────┘      ║  ║  ║ \n",
      "c: 3/════════════════════════════════════╩══╩══╩═\n",
      "                                         0  1  2 \n"
     ]
    },
    {
     "data": {
      "image/png": "[encoded data removed]",
      "text/plain": [
       "<Figure size 640x480 with 1 Axes>"
      ]
     },
     "metadata": {},
     "output_type": "display_data"
    },
    {
     "name": "stdout",
     "output_type": "stream",
     "text": [
      "🔹 Balanced oracle (expect NOT all zeros):\n",
      "     ┌───┐     ┌─────────────────────┐┌───┐┌─┐      \n",
      "q_0: ┤ H ├─────┤0                    ├┤ H ├┤M├──────\n",
      "     ├───┤     │                     │├───┤└╥┘┌─┐   \n",
      "q_1: ┤ H ├─────┤1                    ├┤ H ├─╫─┤M├───\n",
      "     ├───┤     │  balanced_oracle_x0 │├───┤ ║ └╥┘┌─┐\n",
      "q_2: ┤ H ├─────┤2                    ├┤ H ├─╫──╫─┤M├\n",
      "     ├───┤┌───┐│                     │└───┘ ║  ║ └╥┘\n",
      "q_3: ┤ X ├┤ H ├┤3                    ├──────╫──╫──╫─\n",
      "     └───┘└───┘└─────────────────────┘      ║  ║  ║ \n",
      "c: 3/═══════════════════════════════════════╩══╩══╩═\n",
      "                                            0  1  2 \n"
     ]
    },
    {
     "data": {
      "image/png": "[encoded data removed]",
      "text/plain": [
       "<Figure size 640x480 with 1 Axes>"
      ]
     },
     "metadata": {},
     "output_type": "display_data"
    },
    {
     "data": {
      "text/plain": [
       "{'001': 1024}"
      ]
     },
     "execution_count": 5,
     "metadata": {},
     "output_type": "execute_result"
    }
   ],
   "source": [
    "# Deutsch–Jozsa Algorithm (example with n=3 input qubits)\n",
    "\n",
    "n = 3  # number of input qubits\n",
    "\n",
    "# Oracle: constant function f(x) = 0\n",
    "def constant_oracle(n):\n",
    "    qc = QuantumCircuit(n+1, name=\"constant_oracle\")\n",
    "    # does nothing (always returns 0)\n",
    "    return qc\n",
    "\n",
    "# Oracle: balanced function f(x) = x0 (depends on first input bit)\n",
    "def balanced_oracle_x0(n):\n",
    "    qc = QuantumCircuit(n+1, name=\"balanced_oracle_x0\")\n",
    "    qc.cx(0, n)   # CNOT from first input qubit → output qubit\n",
    "    return qc\n",
    "\n",
    "# Deutsch–Jozsa circuit builder\n",
    "def deutsch_jozsa(oracle, n):\n",
    "    qc = QuantumCircuit(n+1, n)\n",
    "    \n",
    "    # Step 1: prepare output qubit in |1>\n",
    "    qc.x(n)\n",
    "    qc.h(n)\n",
    "    \n",
    "    # Step 2: Hadamard on input qubits\n",
    "    qc.h(range(n))\n",
    "    \n",
    "    # Step 3: apply oracle\n",
    "    qc.append(oracle.to_gate(), range(n+1))\n",
    "    \n",
    "    # Step 4: Hadamard on input qubits again\n",
    "    qc.h(range(n))\n",
    "    \n",
    "    # Step 5: measure input qubits\n",
    "    qc.measure(range(n), range(n))\n",
    "    \n",
    "    print(qc.draw(output=\"text\"))\n",
    "    return run_and_plot(qc)\n",
    "\n",
    "# Run with constant oracle\n",
    "print(\"🔹 Constant oracle (expect all zeros):\")\n",
    "deutsch_jozsa(constant_oracle(n), n)\n",
    "\n",
    "# Run with balanced oracle\n",
    "print(\"🔹 Balanced oracle (expect NOT all zeros):\")\n",
    "deutsch_jozsa(balanced_oracle_x0(n), n)\n"
   ]
  }
 ],
 "metadata": {
  "kernelspec": {
   "display_name": "Python 3",
   "language": "python",
   "name": "python3"
  },
  "language_info": {
   "codemirror_mode": {
    "name": "ipython",
    "version": 3
   },
   "file_extension": ".py",
   "mimetype": "text/x-python",
   "name": "python",
   "nbconvert_exporter": "python",
   "pygments_lexer": "ipython3",
   "version": "3.13.7"
  }
 },
 "nbformat": 4,
 "nbformat_minor": 5
}
